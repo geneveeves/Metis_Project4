{
 "cells": [
  {
   "cell_type": "markdown",
   "metadata": {},
   "source": [
    "Analyze reviews in wine dataset\n",
    " - see if review descriptions cluster by type of wine (should, if reviews are not all BS)\n",
    " - possible to create bot to describe wines like a sommelier? (Impress your friends at parties!)\n",
    " \n",
    "Do reddit AMA's have a net positive or negative effect on the people who participate?\n",
    " - Are they mostly trolled?? \n",
    " - Which topics do best/get the most engagement (positive engagement?)\n",
    " \n",
    "Abortion: what speech topics create the most engagement/cause the least negative responses?  \n",
    " - what is the most effective way to combat pro-life sentiment"
   ]
  },
  {
   "cell_type": "code",
   "execution_count": 2,
   "metadata": {},
   "outputs": [],
   "source": [
    "#imports\n",
    "import numpy as np\n",
    "import pandas as pd\n",
    "import re\n"
   ]
  },
  {
   "cell_type": "code",
   "execution_count": 3,
   "metadata": {},
   "outputs": [],
   "source": [
    "df = pd.read_json('full_format_recipes.json')"
   ]
  },
  {
   "cell_type": "code",
   "execution_count": 6,
   "metadata": {},
   "outputs": [
    {
     "name": "stdout",
     "output_type": "stream",
     "text": [
      "<class 'pandas.core.frame.DataFrame'>\n",
      "RangeIndex: 20130 entries, 0 to 20129\n",
      "Data columns (total 11 columns):\n",
      "calories       15976 non-null float64\n",
      "categories     20111 non-null object\n",
      "date           20111 non-null datetime64[ns]\n",
      "desc           13495 non-null object\n",
      "directions     20111 non-null object\n",
      "fat            15908 non-null float64\n",
      "ingredients    20111 non-null object\n",
      "protein        15929 non-null float64\n",
      "rating         20100 non-null float64\n",
      "sodium         15974 non-null float64\n",
      "title          20111 non-null object\n",
      "dtypes: datetime64[ns](1), float64(5), object(5)\n",
      "memory usage: 1.7+ MB\n"
     ]
    }
   ],
   "source": [
    "df.info()"
   ]
  },
  {
   "cell_type": "code",
   "execution_count": 5,
   "metadata": {},
   "outputs": [
    {
     "data": {
      "text/html": [
       "<div>\n",
       "<style scoped>\n",
       "    .dataframe tbody tr th:only-of-type {\n",
       "        vertical-align: middle;\n",
       "    }\n",
       "\n",
       "    .dataframe tbody tr th {\n",
       "        vertical-align: top;\n",
       "    }\n",
       "\n",
       "    .dataframe thead th {\n",
       "        text-align: right;\n",
       "    }\n",
       "</style>\n",
       "<table border=\"1\" class=\"dataframe\">\n",
       "  <thead>\n",
       "    <tr style=\"text-align: right;\">\n",
       "      <th></th>\n",
       "      <th>calories</th>\n",
       "      <th>categories</th>\n",
       "      <th>date</th>\n",
       "      <th>desc</th>\n",
       "      <th>directions</th>\n",
       "      <th>fat</th>\n",
       "      <th>ingredients</th>\n",
       "      <th>protein</th>\n",
       "      <th>rating</th>\n",
       "      <th>sodium</th>\n",
       "      <th>title</th>\n",
       "    </tr>\n",
       "  </thead>\n",
       "  <tbody>\n",
       "    <tr>\n",
       "      <th>0</th>\n",
       "      <td>426.0</td>\n",
       "      <td>[Sandwich, Bean, Fruit, Tomato, turkey, Vegeta...</td>\n",
       "      <td>2006-09-01 04:00:00</td>\n",
       "      <td>None</td>\n",
       "      <td>[1. Place the stock, lentils, celery, carrot, ...</td>\n",
       "      <td>7.0</td>\n",
       "      <td>[4 cups low-sodium vegetable or chicken stock,...</td>\n",
       "      <td>30.0</td>\n",
       "      <td>2.500</td>\n",
       "      <td>559.0</td>\n",
       "      <td>Lentil, Apple, and Turkey Wrap</td>\n",
       "    </tr>\n",
       "    <tr>\n",
       "      <th>1</th>\n",
       "      <td>403.0</td>\n",
       "      <td>[Food Processor, Onion, Pork, Bake, Bastille D...</td>\n",
       "      <td>2004-08-20 04:00:00</td>\n",
       "      <td>This uses the same ingredients found in boudin...</td>\n",
       "      <td>[Combine first 9 ingredients in heavy medium s...</td>\n",
       "      <td>23.0</td>\n",
       "      <td>[1 1/2 cups whipping cream, 2 medium onions, c...</td>\n",
       "      <td>18.0</td>\n",
       "      <td>4.375</td>\n",
       "      <td>1439.0</td>\n",
       "      <td>Boudin Blanc Terrine with Red Onion Confit</td>\n",
       "    </tr>\n",
       "    <tr>\n",
       "      <th>2</th>\n",
       "      <td>165.0</td>\n",
       "      <td>[Soup/Stew, Dairy, Potato, Vegetable, Fennel, ...</td>\n",
       "      <td>2004-08-20 04:00:00</td>\n",
       "      <td>None</td>\n",
       "      <td>[In a large heavy saucepan cook diced fennel a...</td>\n",
       "      <td>7.0</td>\n",
       "      <td>[1 fennel bulb (sometimes called anise), stalk...</td>\n",
       "      <td>6.0</td>\n",
       "      <td>3.750</td>\n",
       "      <td>165.0</td>\n",
       "      <td>Potato and Fennel Soup Hodge</td>\n",
       "    </tr>\n",
       "    <tr>\n",
       "      <th>3</th>\n",
       "      <td>NaN</td>\n",
       "      <td>[Fish, Olive, Tomato, Sauté, Low Fat, Low Cal,...</td>\n",
       "      <td>2009-03-27 04:00:00</td>\n",
       "      <td>The Sicilian-style tomato sauce has tons of Me...</td>\n",
       "      <td>[Heat oil in heavy large skillet over medium-h...</td>\n",
       "      <td>NaN</td>\n",
       "      <td>[2 tablespoons extra-virgin olive oil, 1 cup c...</td>\n",
       "      <td>NaN</td>\n",
       "      <td>5.000</td>\n",
       "      <td>NaN</td>\n",
       "      <td>Mahi-Mahi in Tomato Olive Sauce</td>\n",
       "    </tr>\n",
       "    <tr>\n",
       "      <th>4</th>\n",
       "      <td>547.0</td>\n",
       "      <td>[Cheese, Dairy, Pasta, Vegetable, Side, Bake, ...</td>\n",
       "      <td>2004-08-20 04:00:00</td>\n",
       "      <td>None</td>\n",
       "      <td>[Preheat oven to 350°F. Lightly grease 8x8x2-i...</td>\n",
       "      <td>32.0</td>\n",
       "      <td>[1 12-ounce package frozen spinach soufflé, th...</td>\n",
       "      <td>20.0</td>\n",
       "      <td>3.125</td>\n",
       "      <td>452.0</td>\n",
       "      <td>Spinach Noodle Casserole</td>\n",
       "    </tr>\n",
       "  </tbody>\n",
       "</table>\n",
       "</div>"
      ],
      "text/plain": [
       "   calories                                         categories  \\\n",
       "0     426.0  [Sandwich, Bean, Fruit, Tomato, turkey, Vegeta...   \n",
       "1     403.0  [Food Processor, Onion, Pork, Bake, Bastille D...   \n",
       "2     165.0  [Soup/Stew, Dairy, Potato, Vegetable, Fennel, ...   \n",
       "3       NaN  [Fish, Olive, Tomato, Sauté, Low Fat, Low Cal,...   \n",
       "4     547.0  [Cheese, Dairy, Pasta, Vegetable, Side, Bake, ...   \n",
       "\n",
       "                 date                                               desc  \\\n",
       "0 2006-09-01 04:00:00                                               None   \n",
       "1 2004-08-20 04:00:00  This uses the same ingredients found in boudin...   \n",
       "2 2004-08-20 04:00:00                                               None   \n",
       "3 2009-03-27 04:00:00  The Sicilian-style tomato sauce has tons of Me...   \n",
       "4 2004-08-20 04:00:00                                               None   \n",
       "\n",
       "                                          directions   fat  \\\n",
       "0  [1. Place the stock, lentils, celery, carrot, ...   7.0   \n",
       "1  [Combine first 9 ingredients in heavy medium s...  23.0   \n",
       "2  [In a large heavy saucepan cook diced fennel a...   7.0   \n",
       "3  [Heat oil in heavy large skillet over medium-h...   NaN   \n",
       "4  [Preheat oven to 350°F. Lightly grease 8x8x2-i...  32.0   \n",
       "\n",
       "                                         ingredients  protein  rating  sodium  \\\n",
       "0  [4 cups low-sodium vegetable or chicken stock,...     30.0   2.500   559.0   \n",
       "1  [1 1/2 cups whipping cream, 2 medium onions, c...     18.0   4.375  1439.0   \n",
       "2  [1 fennel bulb (sometimes called anise), stalk...      6.0   3.750   165.0   \n",
       "3  [2 tablespoons extra-virgin olive oil, 1 cup c...      NaN   5.000     NaN   \n",
       "4  [1 12-ounce package frozen spinach soufflé, th...     20.0   3.125   452.0   \n",
       "\n",
       "                                         title  \n",
       "0              Lentil, Apple, and Turkey Wrap   \n",
       "1  Boudin Blanc Terrine with Red Onion Confit   \n",
       "2                Potato and Fennel Soup Hodge   \n",
       "3             Mahi-Mahi in Tomato Olive Sauce   \n",
       "4                    Spinach Noodle Casserole   "
      ]
     },
     "execution_count": 5,
     "metadata": {},
     "output_type": "execute_result"
    }
   ],
   "source": [
    "df.head()"
   ]
  },
  {
   "cell_type": "code",
   "execution_count": null,
   "metadata": {},
   "outputs": [],
   "source": []
  },
  {
   "cell_type": "code",
   "execution_count": null,
   "metadata": {},
   "outputs": [],
   "source": []
  },
  {
   "cell_type": "code",
   "execution_count": null,
   "metadata": {},
   "outputs": [],
   "source": []
  },
  {
   "cell_type": "code",
   "execution_count": null,
   "metadata": {},
   "outputs": [],
   "source": []
  },
  {
   "cell_type": "code",
   "execution_count": null,
   "metadata": {},
   "outputs": [],
   "source": []
  },
  {
   "cell_type": "code",
   "execution_count": null,
   "metadata": {},
   "outputs": [],
   "source": []
  },
  {
   "cell_type": "code",
   "execution_count": null,
   "metadata": {},
   "outputs": [],
   "source": []
  },
  {
   "cell_type": "code",
   "execution_count": null,
   "metadata": {},
   "outputs": [],
   "source": []
  },
  {
   "cell_type": "code",
   "execution_count": null,
   "metadata": {},
   "outputs": [],
   "source": []
  }
 ],
 "metadata": {
  "kernelspec": {
   "display_name": "Python 3",
   "language": "python",
   "name": "python3"
  },
  "language_info": {
   "codemirror_mode": {
    "name": "ipython",
    "version": 3
   },
   "file_extension": ".py",
   "mimetype": "text/x-python",
   "name": "python",
   "nbconvert_exporter": "python",
   "pygments_lexer": "ipython3",
   "version": "3.7.2"
  }
 },
 "nbformat": 4,
 "nbformat_minor": 2
}
